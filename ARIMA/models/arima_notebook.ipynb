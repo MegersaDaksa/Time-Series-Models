{
 "cells": [
  {
   "cell_type": "code",
   "execution_count": 0,
   "metadata": {
    "application/vnd.databricks.v1+cell": {
     "cellMetadata": {
      "byteLimit": 2048000,
      "rowLimit": 10000
     },
     "inputWidgets": {},
     "nuid": "fcf381da-a5cb-4802-82da-53a60d10c498",
     "showTitle": false,
     "title": ""
    }
   },
   "outputs": [],
   "source": [
    "# Import module\n",
    "from ARIMA.data.data_collection import get_sp500_data\n",
    "from ARIMA.data.data_cleaning import clean_data\n",
    "from ARIMA.data.data_preprocessing import preprocess_data\n",
    "from ARIMA.data.data_pipeline import run_etl\n",
    "\n",
    "# ARIMA model building and prediction\n",
    "from ARIMA.models.arima_model import build_arima_model\n",
    "\n",
    "# Model training and evaluation\n",
    "from ARIMA.models.model_training import train_arima_model\n",
    "from ARIMA.models.model_evaluation import evaluate_model\n",
    "\n",
    "# Model prediction\n",
    "from ARIMA.models.model_prediction import predict_future_prices\n",
    "\n",
    "import pandas as pd\n",
    "\n",
    "# Data gathering\n",
    "#data = get_sp500_data()\n",
    "#data.to_csv('sp500_data.csv', index=False)\n",
    "\n",
    "# Data preprocessing\n",
    "#train, test = preprocess_data(data.copy()) if isinstance(preprocess_data(data.copy()), #tuple) else (preprocess_data(data.copy()), None)\n",
    "\n",
    "# Ensure 'Close_diff' column exists in train DataFrame\n",
    "if 'Close_diff' not in train.columns:\n",
    "    train['Close_diff'] = train['Close'].diff()\n",
    "\n",
    "# Build and train model\n",
    "results = train_arima_model(train,1,1,1)\n",
    "\n",
    "# Model evaluation\n",
    "if test is not None:\n",
    "    mse = evaluate_model(test['Close'], results['Predictions'])\n",
    "    print(f\"Model MSE: {mse}\")\n",
    "else:\n",
    "    print(\"Test data is not available for evaluation.\")\n",
    "\n",
    "# Predict future prices\n",
    "predictions = predict_future_prices(results, steps=10)\n",
    "print(predictions)\n",
    "\n",
    "# Corrected run_etl function\n",
    "def run_etl(start_date, end_date):\n",
    "    data = get_sp500_data(start_date, end_date)\n",
    "    cleaned_data = clean_data(data)\n",
    "    cleaned_data.to_csv('processed_sp500_data.csv')\n",
    "\n",
    "# Example usage of run_etl function\n",
    "run_etl('2020-01-01', '2021-01-01')"
   ]
  }
 ],
 "metadata": {
  "application/vnd.databricks.v1+notebook": {
   "dashboards": [],
   "environmentMetadata": null,
   "language": "python",
   "notebookMetadata": {
    "pythonIndentUnit": 4
   },
   "notebookName": "arima_notebook",
   "widgets": {}
  },
  "kernelspec": {
   "display_name": "Python 3",
   "language": "python",
   "name": "python3"
  },
  "language_info": {
   "name": "python",
   "version": "3.12.3"
  }
 },
 "nbformat": 4,
 "nbformat_minor": 0
}
