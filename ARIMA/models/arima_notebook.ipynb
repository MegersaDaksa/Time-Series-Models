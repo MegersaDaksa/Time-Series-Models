{
 "cells": [
  {
   "cell_type": "code",
   "execution_count": null,
   "metadata": {
    "vscode": {
     "languageId": "plaintext"
    }
   },
   "outputs": [],
   "source": [
    "# Import modules\n",
    "from data_gathering import fetch_sp500_data\n",
    "from data_preprocessing import preprocess_data\n",
    "from arima_model import build_arima_model\n",
    "from model_training_and_prediction import train_and_predict\n",
    "from model_evaluation import evaluate_model\n",
    "\n",
    "# Data gathering\n",
    "data = fetch_sp500_data(\"2000-01-01\", \"2023-10-01\")\n",
    "data.to_csv('sp500_data.csv', index=False)\n",
    "\n",
    "# Data preprocessing\n",
    "train, test = preprocess_data('sp500_data.csv')\n",
    "\n",
    "# Build and train model\n",
    "results = train_and_predict(train, test)\n",
    "\n",
    "# Model evaluation\n",
    "mse = evaluate_model(test['Close'], results['Predictions'])\n",
    "print(f\"Model MSE: {mse}\")\n"
   ]
  }
 ],
 "metadata": {
  "language_info": {
   "name": "python"
  }
 },
 "nbformat": 4,
 "nbformat_minor": 2
}
