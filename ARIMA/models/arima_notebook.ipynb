{
 "cells": [
  {
   "cell_type": "code",
   "execution_count": null,
   "metadata": {},
   "outputs": [],
   "source": [
    "# Import modules\n",
    "from data.data_collection import fetch_sp500_data\n",
    "from data.data_collection import get_sp500_data\n",
    "from data.data_cleaning  import clean_data\n",
    "from data.data_preprocessing import preprocess_data\n",
    "from data.data_pipline import run_etl\n",
    "\n",
    "# ARIMA model building and prediction\n",
    "from models.arima_model import build_arima_model\n",
    "\n",
    "# Model training and evaluation\n",
    "from models.model_training import train_model\n",
    "from models.model_evaluation import evaluate_model\n",
    "\n",
    "# Model prediction\n",
    "from models.model_prediction import predict_future_price\n",
    "\n",
    "# Data gathering\n",
    "data = fetch_sp500_data(\"2000-01-01\", \"2023-10-01\")\n",
    "data.to_csv('sp500_data.csv', index=False)\n",
    "\n",
    "# Data preprocessing\n",
    "train, test = preprocess_data('sp500_data.csv')\n",
    "\n",
    "# Build and train model\n",
    "results = train_and_predict(train, test)\n",
    "\n",
    "# Model evaluation\n",
    "mse = evaluate_model(test['Close'], results['Predictions'])\n",
    "print(f\"Model MSE: {mse}\")\n",
    "\n",
    "# Predict future prices\n",
    "predict_future_price(train, test, '2023-11-01')\n",
    "\n",
    "# Run ETL pipeline\n",
    "\n",
    "run_etl()\n"
   ]
  }
 ],
 "metadata": {
  "kernelspec": {
   "display_name": "Python 3",
   "language": "python",
   "name": "python3"
  },
  "language_info": {
   "name": "python",
   "version": "3.12.3"
  }
 },
 "nbformat": 4,
 "nbformat_minor": 2
}
